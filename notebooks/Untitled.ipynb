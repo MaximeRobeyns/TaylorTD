{
 "cells": [
  {
   "cell_type": "code",
   "execution_count": null,
   "id": "80a0e97f-5bd3-4369-b0f7-29eabd0b77d3",
   "metadata": {},
   "outputs": [],
   "source": [
    "import torch as t\n",
    "from hessian import gradient, jacobian, hessian"
   ]
  },
  {
   "cell_type": "code",
   "execution_count": null,
   "id": "f94b7735-c44b-4702-9899-0345f168bb7e",
   "metadata": {},
   "outputs": [],
   "source": [
    "import matplotlib.pyplot as plt"
   ]
  },
  {
   "cell_type": "code",
   "execution_count": null,
   "id": "15e5b59d-ab5d-4d19-b126-8112e4d03bd4",
   "metadata": {},
   "outputs": [],
   "source": [
    "def f(x):\n",
    "    return x*x"
   ]
  },
  {
   "cell_type": "code",
   "execution_count": null,
   "id": "ffeae09a-a7f5-47e6-b2e9-21992a862a2e",
   "metadata": {},
   "outputs": [],
   "source": [
    "def dfdx(x):\n",
    "    return 2*x"
   ]
  },
  {
   "cell_type": "code",
   "execution_count": null,
   "id": "4ad898bb-05d8-4511-8eb7-49529b20f77c",
   "metadata": {},
   "outputs": [],
   "source": [
    "xs = t.linspace(0, 1, 100).requires_grad_(True)\n",
    "ys = f(xs)"
   ]
  },
  {
   "cell_type": "code",
   "execution_count": null,
   "id": "f9d38f47-ed68-4c51-972b-7922b8a71dcf",
   "metadata": {},
   "outputs": [],
   "source": [
    "plt.plot(xs.detach().numpy(), ys.detach().numpy())"
   ]
  },
  {
   "cell_type": "code",
   "execution_count": null,
   "id": "b3dbab85-fec2-43d6-87b1-76757be4df9c",
   "metadata": {},
   "outputs": [],
   "source": [
    "dydx = jacobian(ys, xs).sum(-1)"
   ]
  },
  {
   "cell_type": "code",
   "execution_count": null,
   "id": "10536502-6f66-4f3a-afd3-5a01042e0aea",
   "metadata": {},
   "outputs": [],
   "source": [
    "plt.plot(xs.detach().numpy(), dfdx(xs.detach().numpy()))\n",
    "plt.plot(xs.detach().numpy(), dydx.detach().numpy())"
   ]
  },
  {
   "cell_type": "code",
   "execution_count": null,
   "id": "97d2f434-c818-4dfc-9f4f-fbd33cefa37c",
   "metadata": {},
   "outputs": [],
   "source": [
    "ys"
   ]
  },
  {
   "cell_type": "code",
   "execution_count": null,
   "id": "22ccfa93-90c8-448e-bcd5-81e96a94d78f",
   "metadata": {},
   "outputs": [],
   "source": [
    "outs = t.empty((xs.shape[0], xs.shape[0]))\n",
    "hessian(ys, xs, outs)"
   ]
  },
  {
   "cell_type": "code",
   "execution_count": null,
   "id": "3cbe241f-56ea-45b1-b44d-852191d8f2cd",
   "metadata": {},
   "outputs": [],
   "source": []
  }
 ],
 "metadata": {
  "kernelspec": {
   "display_name": "Taylor RL (Python 3.9)",
   "language": "python",
   "name": "taylor_rl"
  },
  "language_info": {
   "codemirror_mode": {
    "name": "ipython",
    "version": 3
   },
   "file_extension": ".py",
   "mimetype": "text/x-python",
   "name": "python",
   "nbconvert_exporter": "python",
   "pygments_lexer": "ipython3",
   "version": "3.9.12"
  }
 },
 "nbformat": 4,
 "nbformat_minor": 5
}
